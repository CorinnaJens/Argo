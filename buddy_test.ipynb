import argopy
import matplotlib.pyplot as plt
from argopy import DataFetcher as ArgoDataFetcher
ds = ArgoDataFetcher().region([-25,-18,42,48,
                               0,1000,
                               '2021-01-12','2021-08-16']
                              ).to_xarray()
df = ds.where((ds.PLATFORM_NUMBER>=6904096) & (ds.PLATFORM_NUMBER<=6904105))
# %%
plt.plot(ds.PSAL,-ds.PRES,'b.')
plt.plot(df.PSAL,-df.PRES,'k.')
